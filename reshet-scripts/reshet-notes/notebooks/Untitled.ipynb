{
 "cells": [
  {
   "cell_type": "code",
   "execution_count": 12,
   "id": "f4e6f77a",
   "metadata": {},
   "outputs": [],
   "source": [
    "from lxml import etree\n",
    "from io import StringIO, BytesIO"
   ]
  },
  {
   "cell_type": "code",
   "execution_count": 13,
   "id": "2f83b6dd",
   "metadata": {},
   "outputs": [],
   "source": [
    "with open(\"../../morphhb/parsing/Oshm.xml\") as f:\n",
    "    oshm = f.read()"
   ]
  },
  {
   "cell_type": "code",
   "execution_count": 18,
   "id": "c737c1e8",
   "metadata": {},
   "outputs": [],
   "source": [
    "tree = etree.parse(\"../../morphhb/parsing/Oshm.xml\")\n"
   ]
  },
  {
   "cell_type": "code",
   "execution_count": 23,
   "id": "c3103817",
   "metadata": {},
   "outputs": [],
   "source": [
    "root = tree.getroot()"
   ]
  },
  {
   "cell_type": "code",
   "execution_count": 49,
   "id": "916416e8",
   "metadata": {},
   "outputs": [
    {
     "name": "stdout",
     "output_type": "stream",
     "text": [
      "{http://www.crosswire.org/2008/TEIOSIS/namespace}teiHeader {}\n",
      "{http://www.crosswire.org/2008/TEIOSIS/namespace}text {}\n"
     ]
    }
   ],
   "source": [
    "for child in root.getchildren():\n",
    "    print(child.tag, child.attrib)"
   ]
  },
  {
   "cell_type": "code",
   "execution_count": 51,
   "id": "4bdfc1bb",
   "metadata": {},
   "outputs": [],
   "source": [
    "body = root[1][0]"
   ]
  },
  {
   "cell_type": "code",
   "execution_count": 56,
   "id": "8fc6e3df",
   "metadata": {},
   "outputs": [],
   "source": [
    "morph_dict = {}\n",
    "terms = set()\n",
    "for entry in body:\n",
    "    attrib = entry.attrib['n']\n",
    "    text = entry.text \n",
    "    morph_dict[attrib] = text\n",
    "    words = [w.replace(\":\", \"\") for w in text.split(\" \")]\n",
    "    for word in words:\n",
    "        terms.add(word)"
   ]
  },
  {
   "cell_type": "code",
   "execution_count": 65,
   "id": "c68aa71f",
   "metadata": {},
   "outputs": [],
   "source": [
    "t_list = list(terms)"
   ]
  },
  {
   "cell_type": "code",
   "execution_count": 67,
   "id": "29abeb04",
   "metadata": {},
   "outputs": [],
   "source": [
    "t_list.sort()"
   ]
  },
  {
   "cell_type": "code",
   "execution_count": 68,
   "id": "a906dc36",
   "metadata": {},
   "outputs": [
    {
     "data": {
      "text/plain": [
       "['',\n",
       " 'Adjective',\n",
       " 'Adverb',\n",
       " 'Adverb;',\n",
       " 'Aramaic',\n",
       " 'Conjunction',\n",
       " 'Conjunction;',\n",
       " 'Hebrew',\n",
       " 'Noun',\n",
       " 'Particle',\n",
       " 'Preposition',\n",
       " 'Preposition;',\n",
       " 'Pronoun',\n",
       " 'Suffix',\n",
       " 'Verb',\n",
       " 'absolute',\n",
       " 'absolute;',\n",
       " 'active',\n",
       " 'adjective',\n",
       " 'affirmation',\n",
       " 'affirmation;',\n",
       " 'aphel',\n",
       " 'article',\n",
       " 'article;',\n",
       " 'both',\n",
       " 'cardinal',\n",
       " 'cohortative',\n",
       " 'common',\n",
       " 'construct',\n",
       " 'construct;',\n",
       " 'definite',\n",
       " 'demonstrative',\n",
       " 'demonstrative;',\n",
       " 'determined',\n",
       " 'determined;',\n",
       " 'direct',\n",
       " 'directional',\n",
       " 'dual',\n",
       " 'exhortation',\n",
       " 'feminine',\n",
       " 'first',\n",
       " 'gentilic',\n",
       " 'haphel',\n",
       " 'he',\n",
       " 'hiphil',\n",
       " 'hishtaphel',\n",
       " 'hithpaal',\n",
       " 'hithpael',\n",
       " 'hithpalpel',\n",
       " 'hithpeel',\n",
       " 'hithpoel',\n",
       " 'hithpolel',\n",
       " 'hophal',\n",
       " 'hothpaal',\n",
       " 'imperative',\n",
       " 'imperfect',\n",
       " 'indefinite',\n",
       " 'infinitive',\n",
       " 'interjection',\n",
       " 'interjection;',\n",
       " 'interrogative',\n",
       " 'interrogative;',\n",
       " 'ishtaphel',\n",
       " 'ithpaal',\n",
       " 'ithpeel',\n",
       " 'ithpoel',\n",
       " 'jussive',\n",
       " 'marker',\n",
       " 'marker;',\n",
       " 'masculine',\n",
       " 'name',\n",
       " 'name;',\n",
       " 'negative',\n",
       " 'negative;',\n",
       " 'niphal',\n",
       " 'nithpael',\n",
       " 'number',\n",
       " 'nun',\n",
       " 'nun;',\n",
       " 'object',\n",
       " 'ordinal',\n",
       " 'pael',\n",
       " 'palel',\n",
       " 'paragogic',\n",
       " 'participle',\n",
       " 'passive',\n",
       " 'peal',\n",
       " 'pealal',\n",
       " 'peil',\n",
       " 'perfect',\n",
       " 'person',\n",
       " 'personal',\n",
       " 'piel',\n",
       " 'pilel',\n",
       " 'pilpel',\n",
       " 'plural',\n",
       " 'plural;',\n",
       " 'poal',\n",
       " 'poel',\n",
       " 'polal',\n",
       " 'polel',\n",
       " 'polpal',\n",
       " 'pronominal',\n",
       " 'proper',\n",
       " 'pual',\n",
       " 'pulal',\n",
       " 'qal',\n",
       " 'relative',\n",
       " 'relative;',\n",
       " 'saphel',\n",
       " 'second',\n",
       " 'sequential',\n",
       " 'shaphel',\n",
       " 'singular',\n",
       " 'singular;',\n",
       " 'third',\n",
       " 'tiphil']"
      ]
     },
     "execution_count": 68,
     "metadata": {},
     "output_type": "execute_result"
    }
   ],
   "source": [
    "t_list"
   ]
  },
  {
   "cell_type": "code",
   "execution_count": null,
   "id": "752e00ec",
   "metadata": {},
   "outputs": [],
   "source": []
  }
 ],
 "metadata": {
  "kernelspec": {
   "display_name": "Python 3 (ipykernel)",
   "language": "python",
   "name": "python3"
  },
  "language_info": {
   "codemirror_mode": {
    "name": "ipython",
    "version": 3
   },
   "file_extension": ".py",
   "mimetype": "text/x-python",
   "name": "python",
   "nbconvert_exporter": "python",
   "pygments_lexer": "ipython3",
   "version": "3.10.6"
  }
 },
 "nbformat": 4,
 "nbformat_minor": 5
}
