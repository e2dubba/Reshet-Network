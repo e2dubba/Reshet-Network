{
 "cells": [
  {
   "cell_type": "code",
   "execution_count": 2,
   "id": "36df899b",
   "metadata": {},
   "outputs": [],
   "source": [
    "from lxml import etree\n",
    "from io import StringIO, BytesIO"
   ]
  },
  {
   "cell_type": "code",
   "execution_count": 3,
   "id": "adf5748e",
   "metadata": {},
   "outputs": [],
   "source": [
    "with open(\"../../morphhb/parsing/Oshm.xml\") as f:\n",
    "    oshm = f.read()"
   ]
  },
  {
   "cell_type": "code",
   "execution_count": 4,
   "id": "a68f25ec",
   "metadata": {},
   "outputs": [],
   "source": [
    "tree = etree.parse(\"../../morphhb/parsing/Oshm.xml\")\n"
   ]
  },
  {
   "cell_type": "code",
   "execution_count": 5,
   "id": "bbb29548",
   "metadata": {},
   "outputs": [],
   "source": [
    "root = tree.getroot()"
   ]
  },
  {
   "cell_type": "code",
   "execution_count": 6,
   "id": "380c84f6",
   "metadata": {},
   "outputs": [
    {
     "name": "stdout",
     "output_type": "stream",
     "text": [
      "{http://www.crosswire.org/2008/TEIOSIS/namespace}teiHeader {}\n",
      "{http://www.crosswire.org/2008/TEIOSIS/namespace}text {}\n"
     ]
    }
   ],
   "source": [
    "for child in root.getchildren():\n",
    "    print(child.tag, child.attrib)"
   ]
  },
  {
   "cell_type": "code",
   "execution_count": 7,
   "id": "08f1600d",
   "metadata": {},
   "outputs": [],
   "source": [
    "body = root[1][0]"
   ]
  },
  {
   "cell_type": "code",
   "execution_count": 8,
   "id": "1ea9e796",
   "metadata": {},
   "outputs": [],
   "source": [
    "morph_dict = {}\n",
    "terms = set()\n",
    "for entry in body:\n",
    "    attrib = entry.attrib['n']\n",
    "    text = entry.text \n",
    "    morph_dict[attrib] = text\n",
    "    words = [w.replace(\":\", \"\").replace(\";\",\"\").lower() for w in text.split(\" \")]\n",
    "    for word in words:\n",
    "        terms.add(word)"
   ]
  },
  {
   "cell_type": "code",
   "execution_count": 9,
   "id": "d40594ff",
   "metadata": {},
   "outputs": [],
   "source": [
    "t_list = list(terms)"
   ]
  },
  {
   "cell_type": "code",
   "execution_count": 10,
   "id": "a1f31262",
   "metadata": {},
   "outputs": [],
   "source": [
    "t_list.sort()"
   ]
  },
  {
   "cell_type": "code",
   "execution_count": 11,
   "id": "9ac718d1",
   "metadata": {},
   "outputs": [
    {
     "data": {
      "text/plain": [
       "['',\n",
       " 'absolute',\n",
       " 'active',\n",
       " 'adjective',\n",
       " 'adverb',\n",
       " 'affirmation',\n",
       " 'aphel',\n",
       " 'aramaic',\n",
       " 'article',\n",
       " 'both',\n",
       " 'cardinal',\n",
       " 'cohortative',\n",
       " 'common',\n",
       " 'conjunction',\n",
       " 'construct',\n",
       " 'definite',\n",
       " 'demonstrative',\n",
       " 'determined',\n",
       " 'direct',\n",
       " 'directional',\n",
       " 'dual',\n",
       " 'exhortation',\n",
       " 'feminine',\n",
       " 'first',\n",
       " 'gentilic',\n",
       " 'haphel',\n",
       " 'he',\n",
       " 'hebrew',\n",
       " 'hiphil',\n",
       " 'hishtaphel',\n",
       " 'hithpaal',\n",
       " 'hithpael',\n",
       " 'hithpalpel',\n",
       " 'hithpeel',\n",
       " 'hithpoel',\n",
       " 'hithpolel',\n",
       " 'hophal',\n",
       " 'hothpaal',\n",
       " 'imperative',\n",
       " 'imperfect',\n",
       " 'indefinite',\n",
       " 'infinitive',\n",
       " 'interjection',\n",
       " 'interrogative',\n",
       " 'ishtaphel',\n",
       " 'ithpaal',\n",
       " 'ithpeel',\n",
       " 'ithpoel',\n",
       " 'jussive',\n",
       " 'marker',\n",
       " 'masculine',\n",
       " 'name',\n",
       " 'negative',\n",
       " 'niphal',\n",
       " 'nithpael',\n",
       " 'noun',\n",
       " 'number',\n",
       " 'nun',\n",
       " 'object',\n",
       " 'ordinal',\n",
       " 'pael',\n",
       " 'palel',\n",
       " 'paragogic',\n",
       " 'participle',\n",
       " 'particle',\n",
       " 'passive',\n",
       " 'peal',\n",
       " 'pealal',\n",
       " 'peil',\n",
       " 'perfect',\n",
       " 'person',\n",
       " 'personal',\n",
       " 'piel',\n",
       " 'pilel',\n",
       " 'pilpel',\n",
       " 'plural',\n",
       " 'poal',\n",
       " 'poel',\n",
       " 'polal',\n",
       " 'polel',\n",
       " 'polpal',\n",
       " 'preposition',\n",
       " 'pronominal',\n",
       " 'pronoun',\n",
       " 'proper',\n",
       " 'pual',\n",
       " 'pulal',\n",
       " 'qal',\n",
       " 'relative',\n",
       " 'saphel',\n",
       " 'second',\n",
       " 'sequential',\n",
       " 'shaphel',\n",
       " 'singular',\n",
       " 'suffix',\n",
       " 'third',\n",
       " 'tiphil',\n",
       " 'verb']"
      ]
     },
     "execution_count": 11,
     "metadata": {},
     "output_type": "execute_result"
    }
   ],
   "source": [
    "t_list"
   ]
  },
  {
   "cell_type": "code",
   "execution_count": 12,
   "id": "73f2949a",
   "metadata": {},
   "outputs": [
    {
     "name": "stdout",
     "output_type": "stream",
     "text": [
      " Aramaic: Adjective adjective both singular absolute\n"
     ]
    }
   ],
   "source": [
    "for i in morph_dict.values(): \n",
    "    print(i)\n",
    "    break\n",
    "    "
   ]
  },
  {
   "cell_type": "code",
   "execution_count": 21,
   "id": "62cc3b5f",
   "metadata": {},
   "outputs": [
    {
     "data": {
      "text/plain": [
       "98"
      ]
     },
     "execution_count": 21,
     "metadata": {},
     "output_type": "execute_result"
    }
   ],
   "source": [
    "len(t_list)"
   ]
  },
  {
   "cell_type": "code",
   "execution_count": null,
   "id": "091072a8",
   "metadata": {},
   "outputs": [],
   "source": []
  }
 ],
 "metadata": {
  "kernelspec": {
   "display_name": "Python 3 (ipykernel)",
   "language": "python",
   "name": "python3"
  },
  "language_info": {
   "codemirror_mode": {
    "name": "ipython",
    "version": 3
   },
   "file_extension": ".py",
   "mimetype": "text/x-python",
   "name": "python",
   "nbconvert_exporter": "python",
   "pygments_lexer": "ipython3",
   "version": "3.10.6"
  }
 },
 "nbformat": 4,
 "nbformat_minor": 5
}
